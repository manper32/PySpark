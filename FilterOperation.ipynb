{
 "cells": [
  {
   "cell_type": "code",
   "execution_count": 1,
   "metadata": {},
   "outputs": [],
   "source": [
    "from pyspark.sql import SparkSession\n",
    "spark = SparkSession.builder.appName('dataframe').getOrCreate()"
   ]
  },
  {
   "cell_type": "code",
   "execution_count": 3,
   "metadata": {},
   "outputs": [
    {
     "name": "stdout",
     "output_type": "stream",
     "text": [
      "+----+---+----------+------+\n",
      "|name|age|experience|salary|\n",
      "+----+---+----------+------+\n",
      "|  n1| 31|        10| 30000|\n",
      "|  n2| 30|         8| 25000|\n",
      "|  n3| 29|         4| 20000|\n",
      "|  n4| 24|         3| 20000|\n",
      "|  n5| 21|         1| 15000|\n",
      "|  n6| 23|         2| 18000|\n",
      "+----+---+----------+------+\n",
      "\n"
     ]
    }
   ],
   "source": [
    "df_sp = spark.read.csv('work/test3.csv', header=True, inferSchema=True)\n",
    "df_sp.show()"
   ]
  },
  {
   "cell_type": "code",
   "execution_count": 6,
   "metadata": {},
   "outputs": [
    {
     "name": "stdout",
     "output_type": "stream",
     "text": [
      "+----+---+\n",
      "|name|age|\n",
      "+----+---+\n",
      "|  n3| 29|\n",
      "|  n4| 24|\n",
      "|  n5| 21|\n",
      "|  n6| 23|\n",
      "+----+---+\n",
      "\n"
     ]
    }
   ],
   "source": [
    "# filter operations\n",
    "# less than 20000\n",
    "df_sp.filter(\"salary<=20000\").select(['name', 'age']).show()"
   ]
  },
  {
   "cell_type": "code",
   "execution_count": 8,
   "metadata": {},
   "outputs": [
    {
     "name": "stdout",
     "output_type": "stream",
     "text": [
      "+----+---+----------+------+\n",
      "|name|age|experience|salary|\n",
      "+----+---+----------+------+\n",
      "|  n3| 29|         4| 20000|\n",
      "|  n4| 24|         3| 20000|\n",
      "|  n5| 21|         1| 15000|\n",
      "|  n6| 23|         2| 18000|\n",
      "+----+---+----------+------+\n",
      "\n"
     ]
    }
   ],
   "source": [
    "df_sp.filter(df_sp['salary']<=20000).show()"
   ]
  },
  {
   "cell_type": "code",
   "execution_count": 11,
   "metadata": {},
   "outputs": [
    {
     "name": "stdout",
     "output_type": "stream",
     "text": [
      "+----+---+----------+------+\n",
      "|name|age|experience|salary|\n",
      "+----+---+----------+------+\n",
      "|  n3| 29|         4| 20000|\n",
      "|  n4| 24|         3| 20000|\n",
      "|  n6| 23|         2| 18000|\n",
      "+----+---+----------+------+\n",
      "\n"
     ]
    }
   ],
   "source": [
    "df_sp.filter((df_sp['salary']<=20000) & (df_sp['salary']>=16000)).show()"
   ]
  },
  {
   "cell_type": "code",
   "execution_count": 12,
   "metadata": {},
   "outputs": [
    {
     "name": "stdout",
     "output_type": "stream",
     "text": [
      "+----+---+----------+------+\n",
      "|name|age|experience|salary|\n",
      "+----+---+----------+------+\n",
      "|  n1| 31|        10| 30000|\n",
      "|  n2| 30|         8| 25000|\n",
      "+----+---+----------+------+\n",
      "\n"
     ]
    }
   ],
   "source": [
    "df_sp.filter(~(df_sp['salary']<=20000)).show()"
   ]
  }
 ],
 "metadata": {
  "kernelspec": {
   "display_name": "Python 3",
   "language": "python",
   "name": "python3"
  },
  "language_info": {
   "codemirror_mode": {
    "name": "ipython",
    "version": 3
   },
   "file_extension": ".py",
   "mimetype": "text/x-python",
   "name": "python",
   "nbconvert_exporter": "python",
   "pygments_lexer": "ipython3",
   "version": "3.7.6"
  }
 },
 "nbformat": 4,
 "nbformat_minor": 2
}
