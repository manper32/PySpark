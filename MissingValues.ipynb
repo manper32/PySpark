{
 "cells": [
  {
   "cell_type": "code",
   "execution_count": 39,
   "metadata": {},
   "outputs": [],
   "source": [
    "from pyspark.sql import SparkSession\n",
    "spark = SparkSession.builder.appName('Practice').getOrCreate()"
   ]
  },
  {
   "cell_type": "code",
   "execution_count": 40,
   "metadata": {},
   "outputs": [
    {
     "name": "stdout",
     "output_type": "stream",
     "text": [
      "+-----+----+----------+------+\n",
      "| name| age|experience|salary|\n",
      "+-----+----+----------+------+\n",
      "|krish|  31|        10|    20|\n",
      "| sudj|  30|         8|    30|\n",
      "|  sun|  19|         4|    40|\n",
      "|  pau|null|      null|    50|\n",
      "+-----+----+----------+------+\n",
      "\n"
     ]
    }
   ],
   "source": [
    "df_ps = spark.read.csv('work/test2.csv', header=True, inferSchema=True)\n",
    "df_ps.show()"
   ]
  },
  {
   "cell_type": "code",
   "execution_count": 41,
   "metadata": {},
   "outputs": [
    {
     "name": "stdout",
     "output_type": "stream",
     "text": [
      "+-----+----------+------+\n",
      "| name|experience|salary|\n",
      "+-----+----------+------+\n",
      "|krish|        10|    20|\n",
      "| sudj|         8|    30|\n",
      "|  sun|         4|    40|\n",
      "|  pau|      null|    50|\n",
      "+-----+----------+------+\n",
      "\n"
     ]
    }
   ],
   "source": [
    "df_ps.drop('age').show()"
   ]
  },
  {
   "cell_type": "code",
   "execution_count": 42,
   "metadata": {},
   "outputs": [
    {
     "name": "stdout",
     "output_type": "stream",
     "text": [
      "+-----+---+----------+------+\n",
      "| name|age|experience|salary|\n",
      "+-----+---+----------+------+\n",
      "|krish| 31|        10|    20|\n",
      "| sudj| 30|         8|    30|\n",
      "|  sun| 19|         4|    40|\n",
      "+-----+---+----------+------+\n",
      "\n"
     ]
    }
   ],
   "source": [
    "df_ps.na.drop().show()"
   ]
  },
  {
   "cell_type": "code",
   "execution_count": 43,
   "metadata": {},
   "outputs": [
    {
     "name": "stdout",
     "output_type": "stream",
     "text": [
      "+-----+----+----------+------+\n",
      "| name| age|experience|salary|\n",
      "+-----+----+----------+------+\n",
      "|krish|  31|        10|    20|\n",
      "| sudj|  30|         8|    30|\n",
      "|  sun|  19|         4|    40|\n",
      "|  pau|null|      null|    50|\n",
      "+-----+----+----------+------+\n",
      "\n"
     ]
    }
   ],
   "source": [
    "df_ps.na.drop(how=\"all\").show()"
   ]
  },
  {
   "cell_type": "code",
   "execution_count": 44,
   "metadata": {},
   "outputs": [
    {
     "name": "stdout",
     "output_type": "stream",
     "text": [
      "+-----+---+----------+------+\n",
      "| name|age|experience|salary|\n",
      "+-----+---+----------+------+\n",
      "|krish| 31|        10|    20|\n",
      "| sudj| 30|         8|    30|\n",
      "|  sun| 19|         4|    40|\n",
      "+-----+---+----------+------+\n",
      "\n"
     ]
    }
   ],
   "source": [
    "df_ps.na.drop(how=\"any\", thresh=3).show()"
   ]
  },
  {
   "cell_type": "code",
   "execution_count": 45,
   "metadata": {},
   "outputs": [
    {
     "name": "stdout",
     "output_type": "stream",
     "text": [
      "+-----+---+----------+------+\n",
      "| name|age|experience|salary|\n",
      "+-----+---+----------+------+\n",
      "|krish| 31|        10|    20|\n",
      "| sudj| 30|         8|    30|\n",
      "|  sun| 19|         4|    40|\n",
      "+-----+---+----------+------+\n",
      "\n"
     ]
    }
   ],
   "source": [
    "df_ps.na.drop(how=\"any\", subset=['experience']).show()"
   ]
  },
  {
   "cell_type": "code",
   "execution_count": 46,
   "metadata": {},
   "outputs": [
    {
     "name": "stdout",
     "output_type": "stream",
     "text": [
      "+-----+---+----------+------+\n",
      "| name|age|experience|salary|\n",
      "+-----+---+----------+------+\n",
      "|krish| 31|        10|    20|\n",
      "| sudj| 30|         8|    30|\n",
      "|  sun| 19|         4|    40|\n",
      "|  pau|  0|         0|    50|\n",
      "+-----+---+----------+------+\n",
      "\n"
     ]
    }
   ],
   "source": [
    "# filling missing values\n",
    "# type of column matter\n",
    "df_ps.na.fill(0, ['age', 'experience']).show()\n"
   ]
  },
  {
   "cell_type": "code",
   "execution_count": 47,
   "metadata": {},
   "outputs": [
    {
     "name": "stdout",
     "output_type": "stream",
     "text": [
      "+-----+----+----------+------+\n",
      "| name| age|experience|salary|\n",
      "+-----+----+----------+------+\n",
      "|krish|31.0|      10.0|  20.0|\n",
      "| sudj|30.0|       8.0|  30.0|\n",
      "|  sun|19.0|       4.0|  40.0|\n",
      "|  pau|null|      null|  50.0|\n",
      "+-----+----+----------+------+\n",
      "\n"
     ]
    }
   ],
   "source": [
    "# change type of column\n",
    "from pyspark.sql.types import DoubleType\n",
    "for field in ['age', 'experience', 'salary']:\n",
    "    df_ps = df_ps.withColumn(field, df_ps[field].cast(DoubleType()))\n",
    "df_ps.show()"
   ]
  },
  {
   "cell_type": "code",
   "execution_count": 48,
   "metadata": {},
   "outputs": [],
   "source": [
    "from pyspark.ml.feature import Imputer\n",
    "\n",
    "imputer = Imputer(\n",
    "    inputCols=['age', 'experience', 'salary'],\n",
    "    outputCols=[\"{}_imputed\".format(c) for c in ['age', 'experience', 'salary']]\n",
    ").setStrategy(\"mean\")"
   ]
  },
  {
   "cell_type": "code",
   "execution_count": 49,
   "metadata": {},
   "outputs": [
    {
     "name": "stdout",
     "output_type": "stream",
     "text": [
      "+-----+----+----------+------+------------------+------------------+--------------+\n",
      "| name| age|experience|salary|       age_imputed|experience_imputed|salary_imputed|\n",
      "+-----+----+----------+------+------------------+------------------+--------------+\n",
      "|krish|31.0|      10.0|  20.0|              31.0|              10.0|          20.0|\n",
      "| sudj|30.0|       8.0|  30.0|              30.0|               8.0|          30.0|\n",
      "|  sun|19.0|       4.0|  40.0|              19.0|               4.0|          40.0|\n",
      "|  pau|null|      null|  50.0|26.666666666666668| 7.333333333333333|          50.0|\n",
      "+-----+----+----------+------+------------------+------------------+--------------+\n",
      "\n"
     ]
    }
   ],
   "source": [
    "imputer.fit(df_ps).transform(df_ps).show()"
   ]
  }
 ],
 "metadata": {
  "kernelspec": {
   "display_name": "Python 3",
   "language": "python",
   "name": "python3"
  },
  "language_info": {
   "codemirror_mode": {
    "name": "ipython",
    "version": 3
   },
   "file_extension": ".py",
   "mimetype": "text/x-python",
   "name": "python",
   "nbconvert_exporter": "python",
   "pygments_lexer": "ipython3",
   "version": "3.7.6"
  }
 },
 "nbformat": 4,
 "nbformat_minor": 2
}
