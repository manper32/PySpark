{
 "cells": [
  {
   "cell_type": "code",
   "execution_count": 1,
   "metadata": {
    "metadata": {}
   },
   "outputs": [],
   "source": [
    "from pyspark.sql import SparkSession\n",
    "\n",
    "spark = SparkSession.builder.appName('TestDataframe').master('local').getOrCreate()"
   ]
  },
  {
   "cell_type": "code",
   "execution_count": 2,
   "metadata": {
    "metadata": {}
   },
   "outputs": [
    {
     "data": {
      "text/html": [
       "\n",
       "            <div>\n",
       "                <p><b>SparkSession - in-memory</b></p>\n",
       "                \n",
       "        <div>\n",
       "            <p><b>SparkContext</b></p>\n",
       "\n",
       "            <p><a href=\"http://dab64d4a04c8:4040\">Spark UI</a></p>\n",
       "\n",
       "            <dl>\n",
       "              <dt>Version</dt>\n",
       "                <dd><code>v2.4.5</code></dd>\n",
       "              <dt>Master</dt>\n",
       "                <dd><code>local</code></dd>\n",
       "              <dt>AppName</dt>\n",
       "                <dd><code>TestDataframe</code></dd>\n",
       "            </dl>\n",
       "        </div>\n",
       "        \n",
       "            </div>\n",
       "        "
      ],
      "text/plain": [
       "<pyspark.sql.session.SparkSession at 0x7f9b5053ff50>"
      ]
     },
     "execution_count": 2,
     "metadata": {},
     "output_type": "execute_result"
    }
   ],
   "source": [
    "spark"
   ]
  },
  {
   "cell_type": "code",
   "execution_count": 3,
   "metadata": {
    "metadata": {}
   },
   "outputs": [
    {
     "name": "stdout",
     "output_type": "stream",
     "text": [
      "+---+----+---+\n",
      "| id|name|rno|\n",
      "+---+----+---+\n",
      "|  1|   a|111|\n",
      "|  2|   b|222|\n",
      "+---+----+---+\n",
      "\n"
     ]
    }
   ],
   "source": [
    "data1 = [(1, 'a', 111),(2, 'b', 222)]\n",
    "columns = ['id','name','rno']\n",
    "cdf = spark.createDataFrame(data=data1, schema=columns)\n",
    "cdf.show()"
   ]
  },
  {
   "cell_type": "code",
   "execution_count": 4,
   "metadata": {
    "metadata": {}
   },
   "outputs": [
    {
     "data": {
      "text/plain": [
       "pyspark.sql.dataframe.DataFrame"
      ]
     },
     "execution_count": 4,
     "metadata": {},
     "output_type": "execute_result"
    }
   ],
   "source": [
    "type(cdf)"
   ]
  },
  {
   "cell_type": "code",
   "execution_count": 5,
   "metadata": {
    "metadata": {}
   },
   "outputs": [
    {
     "name": "stdout",
     "output_type": "stream",
     "text": [
      "root\n",
      " |-- id: long (nullable = true)\n",
      " |-- name: string (nullable = true)\n",
      " |-- rno: long (nullable = true)\n",
      "\n"
     ]
    }
   ],
   "source": [
    "cdf.printSchema()"
   ]
  },
  {
   "cell_type": "code",
   "execution_count": 6,
   "metadata": {},
   "outputs": [
    {
     "name": "stdout",
     "output_type": "stream",
     "text": [
      "/home/jovyan\n"
     ]
    }
   ],
   "source": [
    "# read the dataset\n",
    "import os\n",
    "print(os.getcwd())\n",
    "df_sp = spark.read.option('header','true').csv('work/test.csv', inferSchema=True)"
   ]
  },
  {
   "cell_type": "code",
   "execution_count": 7,
   "metadata": {},
   "outputs": [
    {
     "name": "stdout",
     "output_type": "stream",
     "text": [
      "root\n",
      " |-- name: string (nullable = true)\n",
      " |-- age: integer (nullable = true)\n",
      " |-- experience: integer (nullable = true)\n",
      "\n"
     ]
    }
   ],
   "source": [
    "df_sp.printSchema()"
   ]
  },
  {
   "cell_type": "code",
   "execution_count": 8,
   "metadata": {},
   "outputs": [
    {
     "name": "stdout",
     "output_type": "stream",
     "text": [
      "+----+---+----------+\n",
      "|name|age|experience|\n",
      "+----+---+----------+\n",
      "|  nq| 31|        10|\n",
      "|  nh| 30|         8|\n",
      "|  nj| 29|         4|\n",
      "+----+---+----------+\n",
      "\n"
     ]
    }
   ],
   "source": [
    "# with header\n",
    "df_sp = spark.read.option('header','true').csv('work/test.csv', inferSchema=True, header=True)\n",
    "df_sp.show()"
   ]
  },
  {
   "cell_type": "code",
   "execution_count": 9,
   "metadata": {},
   "outputs": [
    {
     "name": "stdout",
     "output_type": "stream",
     "text": [
      "+----+---+\n",
      "|name|age|\n",
      "+----+---+\n",
      "|  nq| 31|\n",
      "|  nh| 30|\n",
      "|  nj| 29|\n",
      "+----+---+\n",
      "\n"
     ]
    }
   ],
   "source": [
    "df_sp.select(['name','age']).show()"
   ]
  },
  {
   "cell_type": "code",
   "execution_count": 10,
   "metadata": {},
   "outputs": [
    {
     "data": {
      "text/plain": [
       "[('name', 'string'), ('age', 'int'), ('experience', 'int')]"
      ]
     },
     "execution_count": 10,
     "metadata": {},
     "output_type": "execute_result"
    }
   ],
   "source": [
    "df_sp['age']\n",
    "df_sp.dtypes"
   ]
  },
  {
   "cell_type": "code",
   "execution_count": 11,
   "metadata": {},
   "outputs": [
    {
     "name": "stdout",
     "output_type": "stream",
     "text": [
      "+-------+----+----+-----------------+\n",
      "|summary|name| age|       experience|\n",
      "+-------+----+----+-----------------+\n",
      "|  count|   3|   3|                3|\n",
      "|   mean|null|30.0|7.333333333333333|\n",
      "| stddev|null| 1.0|3.055050463303893|\n",
      "|    min|  nh|  29|                4|\n",
      "|    max|  nq|  31|               10|\n",
      "+-------+----+----+-----------------+\n",
      "\n"
     ]
    }
   ],
   "source": [
    "df_sp.describe().show()"
   ]
  },
  {
   "cell_type": "code",
   "execution_count": 12,
   "metadata": {},
   "outputs": [],
   "source": [
    "# add new column\n",
    "df_sp = df_sp.withColumn('Experience after 2 years', df_sp['experience']+2)"
   ]
  },
  {
   "cell_type": "code",
   "execution_count": 13,
   "metadata": {},
   "outputs": [
    {
     "name": "stdout",
     "output_type": "stream",
     "text": [
      "+----+---+----------+------------------------+\n",
      "|name|age|experience|Experience after 2 years|\n",
      "+----+---+----------+------------------------+\n",
      "|  nq| 31|        10|                      12|\n",
      "|  nh| 30|         8|                      10|\n",
      "|  nj| 29|         4|                       6|\n",
      "+----+---+----------+------------------------+\n",
      "\n"
     ]
    }
   ],
   "source": [
    "df_sp.show()"
   ]
  },
  {
   "cell_type": "code",
   "execution_count": 14,
   "metadata": {},
   "outputs": [
    {
     "name": "stdout",
     "output_type": "stream",
     "text": [
      "+----+---+----------+\n",
      "|name|age|experience|\n",
      "+----+---+----------+\n",
      "|  nq| 31|        10|\n",
      "|  nh| 30|         8|\n",
      "|  nj| 29|         4|\n",
      "+----+---+----------+\n",
      "\n"
     ]
    }
   ],
   "source": [
    "# drop the columns\n",
    "df_sp = df_sp.drop('Experience after 2 years')\n",
    "df_sp.show()"
   ]
  },
  {
   "cell_type": "code",
   "execution_count": 15,
   "metadata": {},
   "outputs": [
    {
     "name": "stdout",
     "output_type": "stream",
     "text": [
      "+----+---+----------+\n",
      "|Name|age|experience|\n",
      "+----+---+----------+\n",
      "|  nq| 31|        10|\n",
      "|  nh| 30|         8|\n",
      "|  nj| 29|         4|\n",
      "+----+---+----------+\n",
      "\n"
     ]
    }
   ],
   "source": [
    "df_sp = df_sp.withColumnRenamed('name','Name')\n",
    "df_sp.show()"
   ]
  }
 ],
 "metadata": {
  "kernelspec": {
   "display_name": "Python 3",
   "language": "python",
   "name": "python3"
  },
  "language_info": {
   "codemirror_mode": {
    "name": "ipython",
    "version": 3
   },
   "file_extension": ".py",
   "mimetype": "text/x-python",
   "name": "python",
   "nbconvert_exporter": "python",
   "pygments_lexer": "ipython3",
   "version": "3.7.6"
  }
 },
 "nbformat": 4,
 "nbformat_minor": 2
}
